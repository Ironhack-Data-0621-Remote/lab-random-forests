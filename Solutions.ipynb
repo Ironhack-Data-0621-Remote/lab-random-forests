{
 "cells": [
  {
   "cell_type": "markdown",
   "id": "438bf20f",
   "metadata": {},
   "source": [
    "# Lab | Random Forests"
   ]
  },
  {
   "cell_type": "markdown",
   "id": "c2bbe11c",
   "metadata": {},
   "source": [
    "- For this lab, you will be using the CSV files provided in the files_for_lab folder."
   ]
  },
  {
   "cell_type": "code",
   "execution_count": 1,
   "id": "8df918ee",
   "metadata": {},
   "outputs": [],
   "source": [
    "from imblearn.over_sampling import SMOTE\n",
    "import numpy as np\n",
    "import pandas as pd\n",
    "\n",
    "from sklearn.preprocessing import OneHotEncoder\n",
    "from sklearn.model_selection import train_test_split\n",
    "from sklearn.ensemble import RandomForestClassifier\n",
    "from sklearn.model_selection import cross_val_score\n",
    "\n",
    "\n",
    "import warnings\n",
    "warnings.filterwarnings('ignore')\n",
    "\n",
    "pd.options.display.max_columns = None\n",
    "pd.options.display.max_rows = None"
   ]
  },
  {
   "cell_type": "code",
   "execution_count": 2,
   "id": "10fc6557",
   "metadata": {},
   "outputs": [],
   "source": [
    "numerical = pd.read_csv('numerical.csv')\n",
    "categorical = pd.read_csv('categorical.csv')\n",
    "target = pd.read_csv('target.csv')"
   ]
  },
  {
   "cell_type": "code",
   "execution_count": 3,
   "id": "23f97ba3",
   "metadata": {},
   "outputs": [
    {
     "data": {
      "text/plain": [
       "(95412, 2)"
      ]
     },
     "execution_count": 3,
     "metadata": {},
     "output_type": "execute_result"
    }
   ],
   "source": [
    "target.shape"
   ]
  },
  {
   "cell_type": "code",
   "execution_count": 4,
   "id": "49bbfd36",
   "metadata": {},
   "outputs": [
    {
     "name": "stdout",
     "output_type": "stream",
     "text": [
      "<class 'pandas.core.frame.DataFrame'>\n",
      "RangeIndex: 95412 entries, 0 to 95411\n",
      "Data columns (total 2 columns):\n",
      " #   Column    Non-Null Count  Dtype  \n",
      "---  ------    --------------  -----  \n",
      " 0   TARGET_B  95412 non-null  int64  \n",
      " 1   TARGET_D  95412 non-null  float64\n",
      "dtypes: float64(1), int64(1)\n",
      "memory usage: 1.5 MB\n"
     ]
    }
   ],
   "source": [
    "target.info()"
   ]
  },
  {
   "cell_type": "code",
   "execution_count": 5,
   "id": "b183a122",
   "metadata": {},
   "outputs": [
    {
     "name": "stdout",
     "output_type": "stream",
     "text": [
      "2 \n",
      "\n",
      "0    90569\n",
      "1     4843\n",
      "Name: TARGET_B, dtype: int64 \n",
      "\n",
      "71 \n",
      "\n",
      "0.00      90569\n",
      "10.00       941\n",
      "15.00       591\n",
      "20.00       577\n",
      "5.00        503\n",
      "25.00       392\n",
      "12.00       161\n",
      "7.00        126\n",
      "6.00        124\n",
      "11.00       118\n",
      "8.00        114\n",
      "30.00        99\n",
      "21.00        92\n",
      "3.00         86\n",
      "16.00        85\n",
      "14.00        81\n",
      "4.00         76\n",
      "9.00         71\n",
      "50.00        68\n",
      "13.00        64\n",
      "17.00        63\n",
      "23.00        40\n",
      "35.00        39\n",
      "18.00        37\n",
      "19.00        27\n",
      "40.00        27\n",
      "26.00        26\n",
      "22.00        23\n",
      "100.00       22\n",
      "2.00         21\n",
      "24.00        13\n",
      "32.00        12\n",
      "12.50        11\n",
      "36.00         9\n",
      "27.00         9\n",
      "45.00         8\n",
      "38.00         8\n",
      "1.00          7\n",
      "75.00         7\n",
      "28.00         6\n",
      "37.00         6\n",
      "47.00         5\n",
      "200.00        4\n",
      "51.00         3\n",
      "31.00         3\n",
      "33.00         3\n",
      "60.00         3\n",
      "46.00         2\n",
      "42.00         2\n",
      "34.00         2\n",
      "44.00         2\n",
      "41.00         2\n",
      "53.00         2\n",
      "43.00         2\n",
      "29.00         2\n",
      "44.21         1\n",
      "7.50          1\n",
      "10.70         1\n",
      "13.92         1\n",
      "150.00        1\n",
      "2.50          1\n",
      "102.00        1\n",
      "95.00         1\n",
      "101.00        1\n",
      "17.50         1\n",
      "5.25          1\n",
      "4.50          1\n",
      "55.00         1\n",
      "18.25         1\n",
      "16.87         1\n",
      "48.00         1\n",
      "Name: TARGET_D, dtype: int64 \n",
      "\n"
     ]
    }
   ],
   "source": [
    "for col in target:\n",
    "        print (target[col].nunique(), '\\n')\n",
    "        print(target[col].value_counts(), '\\n')"
   ]
  },
  {
   "cell_type": "code",
   "execution_count": 6,
   "id": "43af0a7d",
   "metadata": {},
   "outputs": [],
   "source": [
    "# drop 'target D' column since we don't need it in this lab\n",
    "target = target.drop(['TARGET_D'], axis = 1)"
   ]
  },
  {
   "cell_type": "markdown",
   "id": "40546e90",
   "metadata": {},
   "source": [
    "### 1. Apply the Random Forests algorithm but this time only by upscaling the data using SMOTE."
   ]
  },
  {
   "cell_type": "markdown",
   "id": "9100309b",
   "metadata": {},
   "source": [
    "### 2. Note that since SMOTE works on numerical data only, we will first encode the categorical variables in this case."
   ]
  },
  {
   "cell_type": "code",
   "execution_count": 7,
   "id": "0fedb9b1",
   "metadata": {},
   "outputs": [],
   "source": [
    "#encoding categorical then concat to numerical and target\n",
    "\n",
    "encoder = OneHotEncoder(drop='first').fit(categorical)\n",
    "encoded_categorical = encoder.transform(categorical).toarray()\n",
    "encoded_categorical = pd.DataFrame(encoded_categorical)\n",
    "\n",
    "df = pd.concat([numerical, encoded_categorical, target], axis = 1)"
   ]
  },
  {
   "cell_type": "code",
   "execution_count": 8,
   "id": "be4e5519",
   "metadata": {},
   "outputs": [
    {
     "data": {
      "text/plain": [
       "0    90569\n",
       "1    90569\n",
       "Name: TARGET_B, dtype: int64"
      ]
     },
     "execution_count": 8,
     "metadata": {},
     "output_type": "execute_result"
    }
   ],
   "source": [
    "# SMOTE\n",
    "# Uses knn to create rows with similar features from the minority classes.\n",
    "\n",
    "smote = SMOTE()\n",
    "\n",
    "y = df['TARGET_B']\n",
    "X = df.drop(['TARGET_B'], axis = 1)\n",
    "\n",
    "X_sm, y_sm = smote.fit_resample(X, y)\n",
    "y_sm.value_counts()"
   ]
  },
  {
   "cell_type": "code",
   "execution_count": 11,
   "id": "236270f4",
   "metadata": {},
   "outputs": [],
   "source": [
    "X_train, X_test, y_train, y_test = train_test_split(X_sm, y_sm, test_size=0.25, random_state=0)"
   ]
  },
  {
   "cell_type": "code",
   "execution_count": 12,
   "id": "954a92c2",
   "metadata": {},
   "outputs": [
    {
     "name": "stdout",
     "output_type": "stream",
     "text": [
      "0.8819697471568952\n"
     ]
    }
   ],
   "source": [
    "# Building the model\n",
    "\n",
    "clf = RandomForestClassifier(max_depth=2, random_state=0)\n",
    "clf.fit(X_train, y_train)\n",
    "print(clf.score(X_test, y_test))"
   ]
  },
  {
   "cell_type": "code",
   "execution_count": 14,
   "id": "d1770369",
   "metadata": {},
   "outputs": [
    {
     "name": "stdout",
     "output_type": "stream",
     "text": [
      "[0.8820845  0.88127484 0.8863536  0.88597718 0.88781745 0.88568274\n",
      " 0.87868973 0.8812661  0.88833272 0.87655502]\n"
     ]
    }
   ],
   "source": [
    "# For cross validation\n",
    "\n",
    "clf = RandomForestClassifier(max_depth=2, random_state=0)\n",
    "cross_val_scores = cross_val_score(clf, X_train, y_train, cv=10)\n",
    "print(cross_val_scores)"
   ]
  },
  {
   "cell_type": "code",
   "execution_count": 15,
   "id": "84b04182",
   "metadata": {},
   "outputs": [
    {
     "name": "stdout",
     "output_type": "stream",
     "text": [
      "0.94218836259247\n"
     ]
    }
   ],
   "source": [
    "# Building the model - max depth = 5\n",
    "\n",
    "clf = RandomForestClassifier(max_depth=5, random_state=0)\n",
    "clf.fit(X_train, y_train)\n",
    "print(clf.score(X_test, y_test))"
   ]
  },
  {
   "cell_type": "code",
   "execution_count": 18,
   "id": "27fb7744",
   "metadata": {},
   "outputs": [
    {
     "name": "stdout",
     "output_type": "stream",
     "text": [
      "[0.94023039 0.94229141 0.94056163 0.94085388 0.94155318]\n"
     ]
    }
   ],
   "source": [
    "# For cross validation - max depth = 5\n",
    "\n",
    "clf = RandomForestClassifier(max_depth=5, random_state=0)\n",
    "cross_val_scores = cross_val_score(clf, X_train, y_train, cv=5)\n",
    "print(cross_val_scores)"
   ]
  }
 ],
 "metadata": {
  "kernelspec": {
   "display_name": "Python 3",
   "language": "python",
   "name": "python3"
  },
  "language_info": {
   "codemirror_mode": {
    "name": "ipython",
    "version": 3
   },
   "file_extension": ".py",
   "mimetype": "text/x-python",
   "name": "python",
   "nbconvert_exporter": "python",
   "pygments_lexer": "ipython3",
   "version": "3.9.5"
  }
 },
 "nbformat": 4,
 "nbformat_minor": 5
}
